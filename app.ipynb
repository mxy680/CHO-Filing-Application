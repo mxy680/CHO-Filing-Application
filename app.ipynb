{
 "cells": [
  {
   "cell_type": "code",
   "execution_count": 26,
   "metadata": {
    "collapsed": true,
    "ExecuteTime": {
     "end_time": "2023-07-14T03:51:29.900217400Z",
     "start_time": "2023-07-14T03:51:29.869301100Z"
    }
   },
   "outputs": [],
   "source": [
    "# This program will automate the tedious, manual task of inputting a batch of scanned pdfs into an online database (revolutionehr)\n",
    "# The program will take a batch of pdfs, extract the relevant information, and input it into the database\n",
    "# We will use pytesseract and pdf2image to extract the information from the pdfs\n",
    "# We will use the selenium module to automate the process of inputting the data into the database"
   ]
  },
  {
   "cell_type": "markdown",
   "source": [
    "# Extracting Patient Information from the Batch of PDFs"
   ],
   "metadata": {
    "collapsed": false
   }
  },
  {
   "cell_type": "code",
   "execution_count": 27,
   "outputs": [],
   "source": [
    "# Import the necessary modules\n",
    "from pdf2image import convert_from_path\n",
    "import pandas as pd\n",
    "import pytesseract\n",
    "import re"
   ],
   "metadata": {
    "collapsed": false,
    "ExecuteTime": {
     "end_time": "2023-07-14T03:51:29.930138100Z",
     "start_time": "2023-07-14T03:51:29.883264800Z"
    }
   }
  },
  {
   "cell_type": "code",
   "execution_count": 28,
   "outputs": [],
   "source": [
    "file_type = 'intake' # 'intake' or 'vf"
   ],
   "metadata": {
    "collapsed": false,
    "ExecuteTime": {
     "end_time": "2023-07-14T03:51:29.931135200Z",
     "start_time": "2023-07-14T03:51:29.898223300Z"
    }
   }
  },
  {
   "cell_type": "code",
   "execution_count": 29,
   "outputs": [],
   "source": [
    "# Define pandas options\n",
    "pd.set_option('display.max_columns', None)\n",
    "pd.set_option('display.max_rows', None)"
   ],
   "metadata": {
    "collapsed": false,
    "ExecuteTime": {
     "end_time": "2023-07-14T03:51:29.931135200Z",
     "start_time": "2023-07-14T03:51:29.916175500Z"
    }
   }
  },
  {
   "cell_type": "code",
   "execution_count": 30,
   "outputs": [],
   "source": [
    "# Define the paths\n",
    "path_to_batch = r\"C:\\Users\\shtey\\Downloads\\Batch-53.pdf\" if file_type == 'intake' else r\"C:\\Users\\shtey\\Downloads\\Batch-132.pdf\""
   ],
   "metadata": {
    "collapsed": false,
    "ExecuteTime": {
     "end_time": "2023-07-14T03:51:29.958062400Z",
     "start_time": "2023-07-14T03:51:29.929140800Z"
    }
   }
  },
  {
   "cell_type": "code",
   "execution_count": 31,
   "outputs": [
    {
     "name": "stdout",
     "output_type": "stream",
     "text": [
      "Number of pages in the batch: 2\n"
     ]
    }
   ],
   "source": [
    "# Check the number of pages in the batch\n",
    "pages = convert_from_path(path_to_batch)[:2]\n",
    "num_pages = len(pages)\n",
    "print(f\"Number of pages in the batch: {num_pages}\")"
   ],
   "metadata": {
    "collapsed": false,
    "ExecuteTime": {
     "end_time": "2023-07-14T03:51:33.288815700Z",
     "start_time": "2023-07-14T03:51:29.958062400Z"
    }
   }
  },
  {
   "cell_type": "code",
   "execution_count": 32,
   "outputs": [],
   "source": [
    "# Crop the pages so that they only include the top half of the page\n",
    "for i in range(num_pages):\n",
    "    pages[i] = pages[i].crop((0, 0, pages[i].width, pages[i].height / 3))"
   ],
   "metadata": {
    "collapsed": false,
    "ExecuteTime": {
     "end_time": "2023-07-14T03:51:33.329706200Z",
     "start_time": "2023-07-14T03:51:33.291809Z"
    }
   }
  },
  {
   "cell_type": "code",
   "execution_count": 33,
   "outputs": [],
   "source": [
    "def extract_text(page) -> str:\n",
    "    \"\"\"\n",
    "    Extract the text from a page of a pdf\n",
    "    \"\"\"\n",
    "    return pytesseract.image_to_string(page, lang='eng', config='--psm 6')\n",
    "\n",
    "\n",
    "pages_text = [extract_text(page) for page in pages]"
   ],
   "metadata": {
    "collapsed": false,
    "ExecuteTime": {
     "end_time": "2023-07-14T03:51:34.264303800Z",
     "start_time": "2023-07-14T03:51:33.323722900Z"
    }
   }
  },
  {
   "cell_type": "code",
   "execution_count": 34,
   "outputs": [],
   "source": [
    "def extract_information_from_text(text: str, file_type: str) -> list:\n",
    "    \"\"\"\n",
    "    Extract the relevant information from the text of a page\n",
    "    \"\"\"\n",
    "    data_regexes = {}\n",
    "    if file_type == 'intake':\n",
    "        data_regexes = {\n",
    "            'First name': r'First:\\s([A-Za-z]+)',\n",
    "            'Last name': r'Last:\\s([A-Za-z]+)',\n",
    "            'DOB': r'DOB:\\s(\\d{2}/\\d{2}/\\d{4})',\n",
    "            'Sex': r'Sex:\\s([A-Za-z]+)',\n",
    "            'Preferred Phone': r'Preferred:\\sCell:\\s(\\(\\d{3}\\)\\s\\d{3}-\\d{4})',\n",
    "            'Address': r'Address:\\s(.+?)\\n',\n",
    "            'Provider': r'Provider:\\s(.+?)\\n',\n",
    "            'Document Date': r'(\\d{2}/\\d{2}/\\d{4})(?!.*\\d{2}/\\d{2}/\\d{4})'\n",
    "        }\n",
    "    elif file_type == 'vf':\n",
    "        data_regexes = {\n",
    "            'name': r\"NAME:\\s+(\\w+\\s*,\\s*\\w+)\\s+\",\n",
    "            'dob': r\"DOB:\\s*(\\d{2}-\\d{2}-\\d{4})\",\n",
    "            'screening date': r\"Screening DATE:\\s*(\\d{2}-\\d{2}-\\d{4})\"\n",
    "        }\n",
    "\n",
    "    info = []\n",
    "\n",
    "    for key, regex in data_regexes.items():\n",
    "        matches = re.findall(regex, text)\n",
    "        if matches:\n",
    "            info.append(matches[-1])\n",
    "        else:\n",
    "            info.append('***')\n",
    "\n",
    "    if file_type == 'intake':\n",
    "        # Set Document Date to UnknownDate if it is the same as the DOB\n",
    "        if info[-1] == info[1]:\n",
    "            info[-1] = \"UnknownDate\"\n",
    "    elif file_type == 'vf':\n",
    "        # Split the name into first and last name\n",
    "        if info[0] != '***':\n",
    "            first_name = info[0].split(',')[1].strip()\n",
    "            last_name = info[0].split(',')[0].strip()\n",
    "            info[0] = first_name\n",
    "            info.insert(1, last_name)\n",
    "        else:\n",
    "            info.insert(1, '***')\n",
    "\n",
    "    return info"
   ],
   "metadata": {
    "collapsed": false,
    "ExecuteTime": {
     "end_time": "2023-07-14T03:51:34.280259500Z",
     "start_time": "2023-07-14T03:51:34.271283900Z"
    }
   }
  },
  {
   "cell_type": "code",
   "execution_count": 35,
   "outputs": [],
   "source": [
    "# Create a dataframe that will hold the info for each patient\n",
    "df = pd.DataFrame(\n",
    "    columns=['First Name', 'Last Name', 'Date of Birth', 'Sex', 'Preferred Phone', 'Address', 'Provider', 'Document Date', 'Screening Date'])"
   ],
   "metadata": {
    "collapsed": false,
    "ExecuteTime": {
     "end_time": "2023-07-14T03:51:34.301247700Z",
     "start_time": "2023-07-14T03:51:34.283252400Z"
    }
   }
  },
  {
   "cell_type": "code",
   "execution_count": 36,
   "outputs": [],
   "source": [
    "# Extract the information from each page\n",
    "for i in range(num_pages):\n",
    "    data = extract_information_from_text(pages_text[i], file_type)\n",
    "    if file_type == 'intake':\n",
    "        data.append('UnknownDate')\n",
    "    elif file_type == 'vf':\n",
    "        for j in range(2, 7):\n",
    "            data.insert(j, '***')\n",
    "\n",
    "    df.loc[i] = data"
   ],
   "metadata": {
    "collapsed": false,
    "ExecuteTime": {
     "end_time": "2023-07-14T03:51:34.312217900Z",
     "start_time": "2023-07-14T03:51:34.298255300Z"
    }
   }
  },
  {
   "cell_type": "code",
   "execution_count": 37,
   "outputs": [
    {
     "data": {
      "text/plain": "  First Name Last Name Date of Birth     Sex Preferred Phone  \\\n0  Alexander  Shilkrot    02/22/2007    Male  (312) 399-8378   \n1    Cecilia     Zhang    10/21/1989  Female             ***   \n\n                      Address               Provider Document Date  \\\n0            55 Fairmount Ave            Yoo, Eun OD    02/22/2007   \n1  100 Shearwater Ct East ; d  Shteyn, Yekaterina OD    10/21/1989   \n\n  Screening Date  \n0    UnknownDate  \n1    UnknownDate  ",
      "text/html": "<div>\n<style scoped>\n    .dataframe tbody tr th:only-of-type {\n        vertical-align: middle;\n    }\n\n    .dataframe tbody tr th {\n        vertical-align: top;\n    }\n\n    .dataframe thead th {\n        text-align: right;\n    }\n</style>\n<table border=\"1\" class=\"dataframe\">\n  <thead>\n    <tr style=\"text-align: right;\">\n      <th></th>\n      <th>First Name</th>\n      <th>Last Name</th>\n      <th>Date of Birth</th>\n      <th>Sex</th>\n      <th>Preferred Phone</th>\n      <th>Address</th>\n      <th>Provider</th>\n      <th>Document Date</th>\n      <th>Screening Date</th>\n    </tr>\n  </thead>\n  <tbody>\n    <tr>\n      <th>0</th>\n      <td>Alexander</td>\n      <td>Shilkrot</td>\n      <td>02/22/2007</td>\n      <td>Male</td>\n      <td>(312) 399-8378</td>\n      <td>55 Fairmount Ave</td>\n      <td>Yoo, Eun OD</td>\n      <td>02/22/2007</td>\n      <td>UnknownDate</td>\n    </tr>\n    <tr>\n      <th>1</th>\n      <td>Cecilia</td>\n      <td>Zhang</td>\n      <td>10/21/1989</td>\n      <td>Female</td>\n      <td>***</td>\n      <td>100 Shearwater Ct East ; d</td>\n      <td>Shteyn, Yekaterina OD</td>\n      <td>10/21/1989</td>\n      <td>UnknownDate</td>\n    </tr>\n  </tbody>\n</table>\n</div>"
     },
     "execution_count": 37,
     "metadata": {},
     "output_type": "execute_result"
    }
   ],
   "source": [
    "df"
   ],
   "metadata": {
    "collapsed": false,
    "ExecuteTime": {
     "end_time": "2023-07-14T03:51:34.341610Z",
     "start_time": "2023-07-14T03:51:34.313214900Z"
    }
   }
  },
  {
   "cell_type": "markdown",
   "source": [
    "# Using Selenium to access the database"
   ],
   "metadata": {
    "collapsed": false
   }
  },
  {
   "cell_type": "code",
   "execution_count": 38,
   "outputs": [],
   "source": [
    "# Import the necessary modules\n",
    "from selenium import webdriver"
   ],
   "metadata": {
    "collapsed": false,
    "ExecuteTime": {
     "end_time": "2023-07-14T03:51:34.350590400Z",
     "start_time": "2023-07-14T03:51:34.330170400Z"
    }
   }
  },
  {
   "cell_type": "code",
   "execution_count": 39,
   "outputs": [],
   "source": [
    "url = \"https://revolutionehr.com/static/#/\""
   ],
   "metadata": {
    "collapsed": false,
    "ExecuteTime": {
     "end_time": "2023-07-14T03:51:34.360563300Z",
     "start_time": "2023-07-14T03:51:34.344606600Z"
    }
   }
  },
  {
   "cell_type": "code",
   "execution_count": 42,
   "outputs": [
    {
     "ename": "ValueError",
     "evalue": "Timeout value connect was <object object at 0x000001C7B64E3240>, but it must be an int, float or None.",
     "output_type": "error",
     "traceback": [
      "\u001B[1;31m---------------------------------------------------------------------------\u001B[0m",
      "\u001B[1;31mValueError\u001B[0m                                Traceback (most recent call last)",
      "Cell \u001B[1;32mIn[42], line 2\u001B[0m\n\u001B[0;32m      1\u001B[0m \u001B[38;5;66;03m# Open the browser\u001B[39;00m\n\u001B[1;32m----> 2\u001B[0m driver \u001B[38;5;241m=\u001B[39m \u001B[43mwebdriver\u001B[49m\u001B[38;5;241;43m.\u001B[39;49m\u001B[43mChrome\u001B[49m\u001B[43m(\u001B[49m\u001B[43m)\u001B[49m\n",
      "File \u001B[1;32m~\\anaconda3\\envs\\Cohens-Fashion-Optical-Filing-Application\\lib\\site-packages\\selenium\\webdriver\\chrome\\webdriver.py:76\u001B[0m, in \u001B[0;36mWebDriver.__init__\u001B[1;34m(self, executable_path, port, options, service_args, desired_capabilities, service_log_path, chrome_options, keep_alive)\u001B[0m\n\u001B[0;32m     73\u001B[0m \u001B[38;5;28mself\u001B[39m\u001B[38;5;241m.\u001B[39mservice\u001B[38;5;241m.\u001B[39mstart()\n\u001B[0;32m     75\u001B[0m \u001B[38;5;28;01mtry\u001B[39;00m:\n\u001B[1;32m---> 76\u001B[0m     \u001B[43mRemoteWebDriver\u001B[49m\u001B[38;5;241;43m.\u001B[39;49m\u001B[38;5;21;43m__init__\u001B[39;49m\u001B[43m(\u001B[49m\n\u001B[0;32m     77\u001B[0m \u001B[43m        \u001B[49m\u001B[38;5;28;43mself\u001B[39;49m\u001B[43m,\u001B[49m\n\u001B[0;32m     78\u001B[0m \u001B[43m        \u001B[49m\u001B[43mcommand_executor\u001B[49m\u001B[38;5;241;43m=\u001B[39;49m\u001B[43mChromeRemoteConnection\u001B[49m\u001B[43m(\u001B[49m\n\u001B[0;32m     79\u001B[0m \u001B[43m            \u001B[49m\u001B[43mremote_server_addr\u001B[49m\u001B[38;5;241;43m=\u001B[39;49m\u001B[38;5;28;43mself\u001B[39;49m\u001B[38;5;241;43m.\u001B[39;49m\u001B[43mservice\u001B[49m\u001B[38;5;241;43m.\u001B[39;49m\u001B[43mservice_url\u001B[49m\u001B[43m,\u001B[49m\n\u001B[0;32m     80\u001B[0m \u001B[43m            \u001B[49m\u001B[43mkeep_alive\u001B[49m\u001B[38;5;241;43m=\u001B[39;49m\u001B[43mkeep_alive\u001B[49m\u001B[43m)\u001B[49m\u001B[43m,\u001B[49m\n\u001B[0;32m     81\u001B[0m \u001B[43m        \u001B[49m\u001B[43mdesired_capabilities\u001B[49m\u001B[38;5;241;43m=\u001B[39;49m\u001B[43mdesired_capabilities\u001B[49m\u001B[43m)\u001B[49m\n\u001B[0;32m     82\u001B[0m \u001B[38;5;28;01mexcept\u001B[39;00m \u001B[38;5;167;01mException\u001B[39;00m:\n\u001B[0;32m     83\u001B[0m     \u001B[38;5;28mself\u001B[39m\u001B[38;5;241m.\u001B[39mquit()\n",
      "File \u001B[1;32m~\\anaconda3\\envs\\Cohens-Fashion-Optical-Filing-Application\\lib\\site-packages\\selenium\\webdriver\\remote\\webdriver.py:157\u001B[0m, in \u001B[0;36mWebDriver.__init__\u001B[1;34m(self, command_executor, desired_capabilities, browser_profile, proxy, keep_alive, file_detector, options)\u001B[0m\n\u001B[0;32m    154\u001B[0m \u001B[38;5;28;01mif\u001B[39;00m browser_profile \u001B[38;5;129;01mis\u001B[39;00m \u001B[38;5;129;01mnot\u001B[39;00m \u001B[38;5;28;01mNone\u001B[39;00m:\n\u001B[0;32m    155\u001B[0m     warnings\u001B[38;5;241m.\u001B[39mwarn(\u001B[38;5;124m\"\u001B[39m\u001B[38;5;124mPlease use FirefoxOptions to set browser profile\u001B[39m\u001B[38;5;124m\"\u001B[39m,\n\u001B[0;32m    156\u001B[0m                   \u001B[38;5;167;01mDeprecationWarning\u001B[39;00m, stacklevel\u001B[38;5;241m=\u001B[39m\u001B[38;5;241m2\u001B[39m)\n\u001B[1;32m--> 157\u001B[0m \u001B[38;5;28;43mself\u001B[39;49m\u001B[38;5;241;43m.\u001B[39;49m\u001B[43mstart_session\u001B[49m\u001B[43m(\u001B[49m\u001B[43mcapabilities\u001B[49m\u001B[43m,\u001B[49m\u001B[43m \u001B[49m\u001B[43mbrowser_profile\u001B[49m\u001B[43m)\u001B[49m\n\u001B[0;32m    158\u001B[0m \u001B[38;5;28mself\u001B[39m\u001B[38;5;241m.\u001B[39m_switch_to \u001B[38;5;241m=\u001B[39m SwitchTo(\u001B[38;5;28mself\u001B[39m)\n\u001B[0;32m    159\u001B[0m \u001B[38;5;28mself\u001B[39m\u001B[38;5;241m.\u001B[39m_mobile \u001B[38;5;241m=\u001B[39m Mobile(\u001B[38;5;28mself\u001B[39m)\n",
      "File \u001B[1;32m~\\anaconda3\\envs\\Cohens-Fashion-Optical-Filing-Application\\lib\\site-packages\\selenium\\webdriver\\remote\\webdriver.py:252\u001B[0m, in \u001B[0;36mWebDriver.start_session\u001B[1;34m(self, capabilities, browser_profile)\u001B[0m\n\u001B[0;32m    249\u001B[0m w3c_caps \u001B[38;5;241m=\u001B[39m _make_w3c_caps(capabilities)\n\u001B[0;32m    250\u001B[0m parameters \u001B[38;5;241m=\u001B[39m {\u001B[38;5;124m\"\u001B[39m\u001B[38;5;124mcapabilities\u001B[39m\u001B[38;5;124m\"\u001B[39m: w3c_caps,\n\u001B[0;32m    251\u001B[0m               \u001B[38;5;124m\"\u001B[39m\u001B[38;5;124mdesiredCapabilities\u001B[39m\u001B[38;5;124m\"\u001B[39m: capabilities}\n\u001B[1;32m--> 252\u001B[0m response \u001B[38;5;241m=\u001B[39m \u001B[38;5;28;43mself\u001B[39;49m\u001B[38;5;241;43m.\u001B[39;49m\u001B[43mexecute\u001B[49m\u001B[43m(\u001B[49m\u001B[43mCommand\u001B[49m\u001B[38;5;241;43m.\u001B[39;49m\u001B[43mNEW_SESSION\u001B[49m\u001B[43m,\u001B[49m\u001B[43m \u001B[49m\u001B[43mparameters\u001B[49m\u001B[43m)\u001B[49m\n\u001B[0;32m    253\u001B[0m \u001B[38;5;28;01mif\u001B[39;00m \u001B[38;5;124m'\u001B[39m\u001B[38;5;124msessionId\u001B[39m\u001B[38;5;124m'\u001B[39m \u001B[38;5;129;01mnot\u001B[39;00m \u001B[38;5;129;01min\u001B[39;00m response:\n\u001B[0;32m    254\u001B[0m     response \u001B[38;5;241m=\u001B[39m response[\u001B[38;5;124m'\u001B[39m\u001B[38;5;124mvalue\u001B[39m\u001B[38;5;124m'\u001B[39m]\n",
      "File \u001B[1;32m~\\anaconda3\\envs\\Cohens-Fashion-Optical-Filing-Application\\lib\\site-packages\\selenium\\webdriver\\remote\\webdriver.py:319\u001B[0m, in \u001B[0;36mWebDriver.execute\u001B[1;34m(self, driver_command, params)\u001B[0m\n\u001B[0;32m    316\u001B[0m         params[\u001B[38;5;124m'\u001B[39m\u001B[38;5;124msessionId\u001B[39m\u001B[38;5;124m'\u001B[39m] \u001B[38;5;241m=\u001B[39m \u001B[38;5;28mself\u001B[39m\u001B[38;5;241m.\u001B[39msession_id\n\u001B[0;32m    318\u001B[0m params \u001B[38;5;241m=\u001B[39m \u001B[38;5;28mself\u001B[39m\u001B[38;5;241m.\u001B[39m_wrap_value(params)\n\u001B[1;32m--> 319\u001B[0m response \u001B[38;5;241m=\u001B[39m \u001B[38;5;28;43mself\u001B[39;49m\u001B[38;5;241;43m.\u001B[39;49m\u001B[43mcommand_executor\u001B[49m\u001B[38;5;241;43m.\u001B[39;49m\u001B[43mexecute\u001B[49m\u001B[43m(\u001B[49m\u001B[43mdriver_command\u001B[49m\u001B[43m,\u001B[49m\u001B[43m \u001B[49m\u001B[43mparams\u001B[49m\u001B[43m)\u001B[49m\n\u001B[0;32m    320\u001B[0m \u001B[38;5;28;01mif\u001B[39;00m response:\n\u001B[0;32m    321\u001B[0m     \u001B[38;5;28mself\u001B[39m\u001B[38;5;241m.\u001B[39merror_handler\u001B[38;5;241m.\u001B[39mcheck_response(response)\n",
      "File \u001B[1;32m~\\anaconda3\\envs\\Cohens-Fashion-Optical-Filing-Application\\lib\\site-packages\\selenium\\webdriver\\remote\\remote_connection.py:374\u001B[0m, in \u001B[0;36mRemoteConnection.execute\u001B[1;34m(self, command, params)\u001B[0m\n\u001B[0;32m    372\u001B[0m data \u001B[38;5;241m=\u001B[39m utils\u001B[38;5;241m.\u001B[39mdump_json(params)\n\u001B[0;32m    373\u001B[0m url \u001B[38;5;241m=\u001B[39m \u001B[38;5;124m'\u001B[39m\u001B[38;5;132;01m%s\u001B[39;00m\u001B[38;5;132;01m%s\u001B[39;00m\u001B[38;5;124m'\u001B[39m \u001B[38;5;241m%\u001B[39m (\u001B[38;5;28mself\u001B[39m\u001B[38;5;241m.\u001B[39m_url, path)\n\u001B[1;32m--> 374\u001B[0m \u001B[38;5;28;01mreturn\u001B[39;00m \u001B[38;5;28;43mself\u001B[39;49m\u001B[38;5;241;43m.\u001B[39;49m\u001B[43m_request\u001B[49m\u001B[43m(\u001B[49m\u001B[43mcommand_info\u001B[49m\u001B[43m[\u001B[49m\u001B[38;5;241;43m0\u001B[39;49m\u001B[43m]\u001B[49m\u001B[43m,\u001B[49m\u001B[43m \u001B[49m\u001B[43murl\u001B[49m\u001B[43m,\u001B[49m\u001B[43m \u001B[49m\u001B[43mbody\u001B[49m\u001B[38;5;241;43m=\u001B[39;49m\u001B[43mdata\u001B[49m\u001B[43m)\u001B[49m\n",
      "File \u001B[1;32m~\\anaconda3\\envs\\Cohens-Fashion-Optical-Filing-Application\\lib\\site-packages\\selenium\\webdriver\\remote\\remote_connection.py:397\u001B[0m, in \u001B[0;36mRemoteConnection._request\u001B[1;34m(self, method, url, body)\u001B[0m\n\u001B[0;32m    394\u001B[0m     body \u001B[38;5;241m=\u001B[39m \u001B[38;5;28;01mNone\u001B[39;00m\n\u001B[0;32m    396\u001B[0m \u001B[38;5;28;01mif\u001B[39;00m \u001B[38;5;28mself\u001B[39m\u001B[38;5;241m.\u001B[39mkeep_alive:\n\u001B[1;32m--> 397\u001B[0m     resp \u001B[38;5;241m=\u001B[39m \u001B[38;5;28;43mself\u001B[39;49m\u001B[38;5;241;43m.\u001B[39;49m\u001B[43m_conn\u001B[49m\u001B[38;5;241;43m.\u001B[39;49m\u001B[43mrequest\u001B[49m\u001B[43m(\u001B[49m\u001B[43mmethod\u001B[49m\u001B[43m,\u001B[49m\u001B[43m \u001B[49m\u001B[43murl\u001B[49m\u001B[43m,\u001B[49m\u001B[43m \u001B[49m\u001B[43mbody\u001B[49m\u001B[38;5;241;43m=\u001B[39;49m\u001B[43mbody\u001B[49m\u001B[43m,\u001B[49m\u001B[43m \u001B[49m\u001B[43mheaders\u001B[49m\u001B[38;5;241;43m=\u001B[39;49m\u001B[43mheaders\u001B[49m\u001B[43m)\u001B[49m\n\u001B[0;32m    399\u001B[0m     statuscode \u001B[38;5;241m=\u001B[39m resp\u001B[38;5;241m.\u001B[39mstatus\n\u001B[0;32m    400\u001B[0m \u001B[38;5;28;01melse\u001B[39;00m:\n",
      "File \u001B[1;32m~\\anaconda3\\envs\\Cohens-Fashion-Optical-Filing-Application\\lib\\site-packages\\urllib3\\_request_methods.py:118\u001B[0m, in \u001B[0;36mRequestMethods.request\u001B[1;34m(self, method, url, body, fields, headers, json, **urlopen_kw)\u001B[0m\n\u001B[0;32m    110\u001B[0m     \u001B[38;5;28;01mreturn\u001B[39;00m \u001B[38;5;28mself\u001B[39m\u001B[38;5;241m.\u001B[39mrequest_encode_url(\n\u001B[0;32m    111\u001B[0m         method,\n\u001B[0;32m    112\u001B[0m         url,\n\u001B[1;32m   (...)\u001B[0m\n\u001B[0;32m    115\u001B[0m         \u001B[38;5;241m*\u001B[39m\u001B[38;5;241m*\u001B[39murlopen_kw,\n\u001B[0;32m    116\u001B[0m     )\n\u001B[0;32m    117\u001B[0m \u001B[38;5;28;01melse\u001B[39;00m:\n\u001B[1;32m--> 118\u001B[0m     \u001B[38;5;28;01mreturn\u001B[39;00m \u001B[38;5;28;43mself\u001B[39;49m\u001B[38;5;241;43m.\u001B[39;49m\u001B[43mrequest_encode_body\u001B[49m\u001B[43m(\u001B[49m\n\u001B[0;32m    119\u001B[0m \u001B[43m        \u001B[49m\u001B[43mmethod\u001B[49m\u001B[43m,\u001B[49m\u001B[43m \u001B[49m\u001B[43murl\u001B[49m\u001B[43m,\u001B[49m\u001B[43m \u001B[49m\u001B[43mfields\u001B[49m\u001B[38;5;241;43m=\u001B[39;49m\u001B[43mfields\u001B[49m\u001B[43m,\u001B[49m\u001B[43m \u001B[49m\u001B[43mheaders\u001B[49m\u001B[38;5;241;43m=\u001B[39;49m\u001B[43mheaders\u001B[49m\u001B[43m,\u001B[49m\u001B[43m \u001B[49m\u001B[38;5;241;43m*\u001B[39;49m\u001B[38;5;241;43m*\u001B[39;49m\u001B[43murlopen_kw\u001B[49m\n\u001B[0;32m    120\u001B[0m \u001B[43m    \u001B[49m\u001B[43m)\u001B[49m\n",
      "File \u001B[1;32m~\\anaconda3\\envs\\Cohens-Fashion-Optical-Filing-Application\\lib\\site-packages\\urllib3\\_request_methods.py:217\u001B[0m, in \u001B[0;36mRequestMethods.request_encode_body\u001B[1;34m(self, method, url, fields, headers, encode_multipart, multipart_boundary, **urlopen_kw)\u001B[0m\n\u001B[0;32m    213\u001B[0m     extra_kw[\u001B[38;5;124m\"\u001B[39m\u001B[38;5;124mheaders\u001B[39m\u001B[38;5;124m\"\u001B[39m]\u001B[38;5;241m.\u001B[39msetdefault(\u001B[38;5;124m\"\u001B[39m\u001B[38;5;124mContent-Type\u001B[39m\u001B[38;5;124m\"\u001B[39m, content_type)\n\u001B[0;32m    215\u001B[0m extra_kw\u001B[38;5;241m.\u001B[39mupdate(urlopen_kw)\n\u001B[1;32m--> 217\u001B[0m \u001B[38;5;28;01mreturn\u001B[39;00m \u001B[38;5;28;43mself\u001B[39;49m\u001B[38;5;241;43m.\u001B[39;49m\u001B[43murlopen\u001B[49m\u001B[43m(\u001B[49m\u001B[43mmethod\u001B[49m\u001B[43m,\u001B[49m\u001B[43m \u001B[49m\u001B[43murl\u001B[49m\u001B[43m,\u001B[49m\u001B[43m \u001B[49m\u001B[38;5;241;43m*\u001B[39;49m\u001B[38;5;241;43m*\u001B[39;49m\u001B[43mextra_kw\u001B[49m\u001B[43m)\u001B[49m\n",
      "File \u001B[1;32m~\\anaconda3\\envs\\Cohens-Fashion-Optical-Filing-Application\\lib\\site-packages\\urllib3\\poolmanager.py:432\u001B[0m, in \u001B[0;36mPoolManager.urlopen\u001B[1;34m(self, method, url, redirect, **kw)\u001B[0m\n\u001B[0;32m    422\u001B[0m \u001B[38;5;28;01mif\u001B[39;00m u\u001B[38;5;241m.\u001B[39mscheme \u001B[38;5;129;01mis\u001B[39;00m \u001B[38;5;28;01mNone\u001B[39;00m:\n\u001B[0;32m    423\u001B[0m     warnings\u001B[38;5;241m.\u001B[39mwarn(\n\u001B[0;32m    424\u001B[0m         \u001B[38;5;124m\"\u001B[39m\u001B[38;5;124mURLs without a scheme (ie \u001B[39m\u001B[38;5;124m'\u001B[39m\u001B[38;5;124mhttps://\u001B[39m\u001B[38;5;124m'\u001B[39m\u001B[38;5;124m) are deprecated and will raise an error \u001B[39m\u001B[38;5;124m\"\u001B[39m\n\u001B[0;32m    425\u001B[0m         \u001B[38;5;124m\"\u001B[39m\u001B[38;5;124min a future version of urllib3. To avoid this DeprecationWarning ensure all URLs \u001B[39m\u001B[38;5;124m\"\u001B[39m\n\u001B[1;32m   (...)\u001B[0m\n\u001B[0;32m    429\u001B[0m         stacklevel\u001B[38;5;241m=\u001B[39m\u001B[38;5;241m2\u001B[39m,\n\u001B[0;32m    430\u001B[0m     )\n\u001B[1;32m--> 432\u001B[0m conn \u001B[38;5;241m=\u001B[39m \u001B[38;5;28;43mself\u001B[39;49m\u001B[38;5;241;43m.\u001B[39;49m\u001B[43mconnection_from_host\u001B[49m\u001B[43m(\u001B[49m\u001B[43mu\u001B[49m\u001B[38;5;241;43m.\u001B[39;49m\u001B[43mhost\u001B[49m\u001B[43m,\u001B[49m\u001B[43m \u001B[49m\u001B[43mport\u001B[49m\u001B[38;5;241;43m=\u001B[39;49m\u001B[43mu\u001B[49m\u001B[38;5;241;43m.\u001B[39;49m\u001B[43mport\u001B[49m\u001B[43m,\u001B[49m\u001B[43m \u001B[49m\u001B[43mscheme\u001B[49m\u001B[38;5;241;43m=\u001B[39;49m\u001B[43mu\u001B[49m\u001B[38;5;241;43m.\u001B[39;49m\u001B[43mscheme\u001B[49m\u001B[43m)\u001B[49m\n\u001B[0;32m    434\u001B[0m kw[\u001B[38;5;124m\"\u001B[39m\u001B[38;5;124massert_same_host\u001B[39m\u001B[38;5;124m\"\u001B[39m] \u001B[38;5;241m=\u001B[39m \u001B[38;5;28;01mFalse\u001B[39;00m\n\u001B[0;32m    435\u001B[0m kw[\u001B[38;5;124m\"\u001B[39m\u001B[38;5;124mredirect\u001B[39m\u001B[38;5;124m\"\u001B[39m] \u001B[38;5;241m=\u001B[39m \u001B[38;5;28;01mFalse\u001B[39;00m\n",
      "File \u001B[1;32m~\\anaconda3\\envs\\Cohens-Fashion-Optical-Filing-Application\\lib\\site-packages\\urllib3\\poolmanager.py:303\u001B[0m, in \u001B[0;36mPoolManager.connection_from_host\u001B[1;34m(self, host, port, scheme, pool_kwargs)\u001B[0m\n\u001B[0;32m    300\u001B[0m request_context[\u001B[38;5;124m\"\u001B[39m\u001B[38;5;124mport\u001B[39m\u001B[38;5;124m\"\u001B[39m] \u001B[38;5;241m=\u001B[39m port\n\u001B[0;32m    301\u001B[0m request_context[\u001B[38;5;124m\"\u001B[39m\u001B[38;5;124mhost\u001B[39m\u001B[38;5;124m\"\u001B[39m] \u001B[38;5;241m=\u001B[39m host\n\u001B[1;32m--> 303\u001B[0m \u001B[38;5;28;01mreturn\u001B[39;00m \u001B[38;5;28;43mself\u001B[39;49m\u001B[38;5;241;43m.\u001B[39;49m\u001B[43mconnection_from_context\u001B[49m\u001B[43m(\u001B[49m\u001B[43mrequest_context\u001B[49m\u001B[43m)\u001B[49m\n",
      "File \u001B[1;32m~\\anaconda3\\envs\\Cohens-Fashion-Optical-Filing-Application\\lib\\site-packages\\urllib3\\poolmanager.py:328\u001B[0m, in \u001B[0;36mPoolManager.connection_from_context\u001B[1;34m(self, request_context)\u001B[0m\n\u001B[0;32m    325\u001B[0m     \u001B[38;5;28;01mraise\u001B[39;00m URLSchemeUnknown(scheme)\n\u001B[0;32m    326\u001B[0m pool_key \u001B[38;5;241m=\u001B[39m pool_key_constructor(request_context)\n\u001B[1;32m--> 328\u001B[0m \u001B[38;5;28;01mreturn\u001B[39;00m \u001B[38;5;28;43mself\u001B[39;49m\u001B[38;5;241;43m.\u001B[39;49m\u001B[43mconnection_from_pool_key\u001B[49m\u001B[43m(\u001B[49m\u001B[43mpool_key\u001B[49m\u001B[43m,\u001B[49m\u001B[43m \u001B[49m\u001B[43mrequest_context\u001B[49m\u001B[38;5;241;43m=\u001B[39;49m\u001B[43mrequest_context\u001B[49m\u001B[43m)\u001B[49m\n",
      "File \u001B[1;32m~\\anaconda3\\envs\\Cohens-Fashion-Optical-Filing-Application\\lib\\site-packages\\urllib3\\poolmanager.py:351\u001B[0m, in \u001B[0;36mPoolManager.connection_from_pool_key\u001B[1;34m(self, pool_key, request_context)\u001B[0m\n\u001B[0;32m    349\u001B[0m     host \u001B[38;5;241m=\u001B[39m request_context[\u001B[38;5;124m\"\u001B[39m\u001B[38;5;124mhost\u001B[39m\u001B[38;5;124m\"\u001B[39m]\n\u001B[0;32m    350\u001B[0m     port \u001B[38;5;241m=\u001B[39m request_context[\u001B[38;5;124m\"\u001B[39m\u001B[38;5;124mport\u001B[39m\u001B[38;5;124m\"\u001B[39m]\n\u001B[1;32m--> 351\u001B[0m     pool \u001B[38;5;241m=\u001B[39m \u001B[38;5;28;43mself\u001B[39;49m\u001B[38;5;241;43m.\u001B[39;49m\u001B[43m_new_pool\u001B[49m\u001B[43m(\u001B[49m\u001B[43mscheme\u001B[49m\u001B[43m,\u001B[49m\u001B[43m \u001B[49m\u001B[43mhost\u001B[49m\u001B[43m,\u001B[49m\u001B[43m \u001B[49m\u001B[43mport\u001B[49m\u001B[43m,\u001B[49m\u001B[43m \u001B[49m\u001B[43mrequest_context\u001B[49m\u001B[38;5;241;43m=\u001B[39;49m\u001B[43mrequest_context\u001B[49m\u001B[43m)\u001B[49m\n\u001B[0;32m    352\u001B[0m     \u001B[38;5;28mself\u001B[39m\u001B[38;5;241m.\u001B[39mpools[pool_key] \u001B[38;5;241m=\u001B[39m pool\n\u001B[0;32m    354\u001B[0m \u001B[38;5;28;01mreturn\u001B[39;00m pool\n",
      "File \u001B[1;32m~\\anaconda3\\envs\\Cohens-Fashion-Optical-Filing-Application\\lib\\site-packages\\urllib3\\poolmanager.py:265\u001B[0m, in \u001B[0;36mPoolManager._new_pool\u001B[1;34m(self, scheme, host, port, request_context)\u001B[0m\n\u001B[0;32m    262\u001B[0m     \u001B[38;5;28;01mfor\u001B[39;00m kw \u001B[38;5;129;01min\u001B[39;00m SSL_KEYWORDS:\n\u001B[0;32m    263\u001B[0m         request_context\u001B[38;5;241m.\u001B[39mpop(kw, \u001B[38;5;28;01mNone\u001B[39;00m)\n\u001B[1;32m--> 265\u001B[0m \u001B[38;5;28;01mreturn\u001B[39;00m \u001B[43mpool_cls\u001B[49m\u001B[43m(\u001B[49m\u001B[43mhost\u001B[49m\u001B[43m,\u001B[49m\u001B[43m \u001B[49m\u001B[43mport\u001B[49m\u001B[43m,\u001B[49m\u001B[43m \u001B[49m\u001B[38;5;241;43m*\u001B[39;49m\u001B[38;5;241;43m*\u001B[39;49m\u001B[43mrequest_context\u001B[49m\u001B[43m)\u001B[49m\n",
      "File \u001B[1;32m~\\anaconda3\\envs\\Cohens-Fashion-Optical-Filing-Application\\lib\\site-packages\\urllib3\\connectionpool.py:196\u001B[0m, in \u001B[0;36mHTTPConnectionPool.__init__\u001B[1;34m(self, host, port, timeout, maxsize, block, headers, retries, _proxy, _proxy_headers, _proxy_config, **conn_kw)\u001B[0m\n\u001B[0;32m    193\u001B[0m RequestMethods\u001B[38;5;241m.\u001B[39m\u001B[38;5;21m__init__\u001B[39m(\u001B[38;5;28mself\u001B[39m, headers)\n\u001B[0;32m    195\u001B[0m \u001B[38;5;28;01mif\u001B[39;00m \u001B[38;5;129;01mnot\u001B[39;00m \u001B[38;5;28misinstance\u001B[39m(timeout, Timeout):\n\u001B[1;32m--> 196\u001B[0m     timeout \u001B[38;5;241m=\u001B[39m \u001B[43mTimeout\u001B[49m\u001B[38;5;241;43m.\u001B[39;49m\u001B[43mfrom_float\u001B[49m\u001B[43m(\u001B[49m\u001B[43mtimeout\u001B[49m\u001B[43m)\u001B[49m\n\u001B[0;32m    198\u001B[0m \u001B[38;5;28;01mif\u001B[39;00m retries \u001B[38;5;129;01mis\u001B[39;00m \u001B[38;5;28;01mNone\u001B[39;00m:\n\u001B[0;32m    199\u001B[0m     retries \u001B[38;5;241m=\u001B[39m Retry\u001B[38;5;241m.\u001B[39mDEFAULT\n",
      "File \u001B[1;32m~\\anaconda3\\envs\\Cohens-Fashion-Optical-Filing-Application\\lib\\site-packages\\urllib3\\util\\timeout.py:190\u001B[0m, in \u001B[0;36mTimeout.from_float\u001B[1;34m(cls, timeout)\u001B[0m\n\u001B[0;32m    176\u001B[0m \u001B[38;5;129m@classmethod\u001B[39m\n\u001B[0;32m    177\u001B[0m \u001B[38;5;28;01mdef\u001B[39;00m \u001B[38;5;21mfrom_float\u001B[39m(\u001B[38;5;28mcls\u001B[39m, timeout: _TYPE_TIMEOUT) \u001B[38;5;241m-\u001B[39m\u001B[38;5;241m>\u001B[39m Timeout:\n\u001B[0;32m    178\u001B[0m \u001B[38;5;250m    \u001B[39m\u001B[38;5;124;03m\"\"\"Create a new Timeout from a legacy timeout value.\u001B[39;00m\n\u001B[0;32m    179\u001B[0m \n\u001B[0;32m    180\u001B[0m \u001B[38;5;124;03m    The timeout value used by httplib.py sets the same timeout on the\u001B[39;00m\n\u001B[1;32m   (...)\u001B[0m\n\u001B[0;32m    188\u001B[0m \u001B[38;5;124;03m    :rtype: :class:`Timeout`\u001B[39;00m\n\u001B[0;32m    189\u001B[0m \u001B[38;5;124;03m    \"\"\"\u001B[39;00m\n\u001B[1;32m--> 190\u001B[0m     \u001B[38;5;28;01mreturn\u001B[39;00m \u001B[43mTimeout\u001B[49m\u001B[43m(\u001B[49m\u001B[43mread\u001B[49m\u001B[38;5;241;43m=\u001B[39;49m\u001B[43mtimeout\u001B[49m\u001B[43m,\u001B[49m\u001B[43m \u001B[49m\u001B[43mconnect\u001B[49m\u001B[38;5;241;43m=\u001B[39;49m\u001B[43mtimeout\u001B[49m\u001B[43m)\u001B[49m\n",
      "File \u001B[1;32m~\\anaconda3\\envs\\Cohens-Fashion-Optical-Filing-Application\\lib\\site-packages\\urllib3\\util\\timeout.py:119\u001B[0m, in \u001B[0;36mTimeout.__init__\u001B[1;34m(self, total, connect, read)\u001B[0m\n\u001B[0;32m    113\u001B[0m \u001B[38;5;28;01mdef\u001B[39;00m \u001B[38;5;21m__init__\u001B[39m(\n\u001B[0;32m    114\u001B[0m     \u001B[38;5;28mself\u001B[39m,\n\u001B[0;32m    115\u001B[0m     total: _TYPE_TIMEOUT \u001B[38;5;241m=\u001B[39m \u001B[38;5;28;01mNone\u001B[39;00m,\n\u001B[0;32m    116\u001B[0m     connect: _TYPE_TIMEOUT \u001B[38;5;241m=\u001B[39m _DEFAULT_TIMEOUT,\n\u001B[0;32m    117\u001B[0m     read: _TYPE_TIMEOUT \u001B[38;5;241m=\u001B[39m _DEFAULT_TIMEOUT,\n\u001B[0;32m    118\u001B[0m ) \u001B[38;5;241m-\u001B[39m\u001B[38;5;241m>\u001B[39m \u001B[38;5;28;01mNone\u001B[39;00m:\n\u001B[1;32m--> 119\u001B[0m     \u001B[38;5;28mself\u001B[39m\u001B[38;5;241m.\u001B[39m_connect \u001B[38;5;241m=\u001B[39m \u001B[38;5;28;43mself\u001B[39;49m\u001B[38;5;241;43m.\u001B[39;49m\u001B[43m_validate_timeout\u001B[49m\u001B[43m(\u001B[49m\u001B[43mconnect\u001B[49m\u001B[43m,\u001B[49m\u001B[43m \u001B[49m\u001B[38;5;124;43m\"\u001B[39;49m\u001B[38;5;124;43mconnect\u001B[39;49m\u001B[38;5;124;43m\"\u001B[39;49m\u001B[43m)\u001B[49m\n\u001B[0;32m    120\u001B[0m     \u001B[38;5;28mself\u001B[39m\u001B[38;5;241m.\u001B[39m_read \u001B[38;5;241m=\u001B[39m \u001B[38;5;28mself\u001B[39m\u001B[38;5;241m.\u001B[39m_validate_timeout(read, \u001B[38;5;124m\"\u001B[39m\u001B[38;5;124mread\u001B[39m\u001B[38;5;124m\"\u001B[39m)\n\u001B[0;32m    121\u001B[0m     \u001B[38;5;28mself\u001B[39m\u001B[38;5;241m.\u001B[39mtotal \u001B[38;5;241m=\u001B[39m \u001B[38;5;28mself\u001B[39m\u001B[38;5;241m.\u001B[39m_validate_timeout(total, \u001B[38;5;124m\"\u001B[39m\u001B[38;5;124mtotal\u001B[39m\u001B[38;5;124m\"\u001B[39m)\n",
      "File \u001B[1;32m~\\anaconda3\\envs\\Cohens-Fashion-Optical-Filing-Application\\lib\\site-packages\\urllib3\\util\\timeout.py:156\u001B[0m, in \u001B[0;36mTimeout._validate_timeout\u001B[1;34m(cls, value, name)\u001B[0m\n\u001B[0;32m    154\u001B[0m     \u001B[38;5;28mfloat\u001B[39m(value)\n\u001B[0;32m    155\u001B[0m \u001B[38;5;28;01mexcept\u001B[39;00m (\u001B[38;5;167;01mTypeError\u001B[39;00m, \u001B[38;5;167;01mValueError\u001B[39;00m):\n\u001B[1;32m--> 156\u001B[0m     \u001B[38;5;28;01mraise\u001B[39;00m \u001B[38;5;167;01mValueError\u001B[39;00m(\n\u001B[0;32m    157\u001B[0m         \u001B[38;5;124m\"\u001B[39m\u001B[38;5;124mTimeout value \u001B[39m\u001B[38;5;132;01m%s\u001B[39;00m\u001B[38;5;124m was \u001B[39m\u001B[38;5;132;01m%s\u001B[39;00m\u001B[38;5;124m, but it must be an \u001B[39m\u001B[38;5;124m\"\u001B[39m\n\u001B[0;32m    158\u001B[0m         \u001B[38;5;124m\"\u001B[39m\u001B[38;5;124mint, float or None.\u001B[39m\u001B[38;5;124m\"\u001B[39m \u001B[38;5;241m%\u001B[39m (name, value)\n\u001B[0;32m    159\u001B[0m     ) \u001B[38;5;28;01mfrom\u001B[39;00m \u001B[38;5;28;01mNone\u001B[39;00m\n\u001B[0;32m    161\u001B[0m \u001B[38;5;28;01mtry\u001B[39;00m:\n\u001B[0;32m    162\u001B[0m     \u001B[38;5;28;01mif\u001B[39;00m value \u001B[38;5;241m<\u001B[39m\u001B[38;5;241m=\u001B[39m \u001B[38;5;241m0\u001B[39m:\n",
      "\u001B[1;31mValueError\u001B[0m: Timeout value connect was <object object at 0x000001C7B64E3240>, but it must be an int, float or None."
     ]
    }
   ],
   "source": [
    "# Open the browser\n",
    "driver = webdriver.Chrome()"
   ],
   "metadata": {
    "collapsed": false,
    "ExecuteTime": {
     "end_time": "2023-07-14T04:27:17.043599900Z",
     "start_time": "2023-07-14T04:27:14.274015300Z"
    }
   }
  },
  {
   "cell_type": "code",
   "execution_count": null,
   "outputs": [],
   "source": [],
   "metadata": {
    "collapsed": false
   }
  }
 ],
 "metadata": {
  "kernelspec": {
   "display_name": "Python 3",
   "language": "python",
   "name": "python3"
  },
  "language_info": {
   "codemirror_mode": {
    "name": "ipython",
    "version": 2
   },
   "file_extension": ".py",
   "mimetype": "text/x-python",
   "name": "python",
   "nbconvert_exporter": "python",
   "pygments_lexer": "ipython2",
   "version": "2.7.6"
  }
 },
 "nbformat": 4,
 "nbformat_minor": 0
}
